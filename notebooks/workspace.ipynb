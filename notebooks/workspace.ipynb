{
 "cells": [
  {
   "cell_type": "markdown",
   "metadata": {},
   "source": [
    "# EV Battery Health Monitor - User Profile V2 Development\n",
    "\n",
    "This notebook is for developing and testing user_profiles_v2.py with realistic charging behavior patterns based on research data."
   ]
  },
  {
   "cell_type": "code",
   "execution_count": null,
   "metadata": {},
   "outputs": [],
   "source": [
    "import sys\n",
    "import numpy as np\n",
    "import pandas as pd\n",
    "import matplotlib.pyplot as plt\n",
    "from datetime import datetime, timedelta\n",
    "\n",
    "# Add backend to path\n",
    "sys.path.append('../backend')\n",
    "\n",
    "from simulation.user_profiles_v2 import UserProfile, UserBehaviorSimulator"
   ]
  },
  {
   "cell_type": "markdown",
   "metadata": {},
   "source": "## Test COMMON_DRIVER Profile (Typical EV Driver)\n\nThe COMMON_DRIVER profile represents typical EV driver behavior:\n- SoC range: 25-85% (research-based common case)\n- Charging frequency: 4-5 times per week (realistic average)\n- Daily distance: 45-65km (center of research range)\n- Mix of night and opportunity charging"
  },
  {
   "cell_type": "code",
   "execution_count": null,
   "metadata": {},
   "outputs": [],
   "source": "# Test COMMON_DRIVER behavior over a week\nsim = UserBehaviorSimulator(UserProfile.COMMON_DRIVER, seed=42)\n\n# Simulate a week\ncurrent_soc = 80.0  # Start with typical charge\ndata = []\n\nfor day in range(7):\n    day_name = [\"Mon\", \"Tue\", \"Wed\", \"Thu\", \"Fri\", \"Sat\", \"Sun\"][day]\n    is_weekend = day >= 5\n    \n    # Daily distance\n    daily_distance = sim.get_daily_distance(is_weekend)\n    \n    # Energy consumption (simplified: ~4% SoC per 20km)\n    energy_consumption_pct = (daily_distance / 20.0) * 4.0\n    soc_after_driving = max(0, current_soc - energy_consumption_pct)\n    \n    # Check charging decision (evening)\n    should_charge, target_soc = sim.should_charge(soc_after_driving, hour=22, day_of_week=day)\n    \n    final_soc = target_soc if should_charge else soc_after_driving\n    \n    data.append({\n        'Day': day_name,\n        'SoC_Start': current_soc,\n        'Distance_km': daily_distance,\n        'SoC_After_Drive': soc_after_driving,\n        'Charged': should_charge,\n        'Target_SoC': target_soc if should_charge else None,\n        'SoC_End': final_soc\n    })\n    \n    current_soc = final_soc\n\ndf = pd.DataFrame(data)\nprint(\"COMMON_DRIVER Weekly Behavior:\")\nprint(df.to_string(index=False))"
  },
  {
   "cell_type": "code",
   "execution_count": null,
   "metadata": {},
   "outputs": [],
   "source": [
    "# Analyze results\n",
    "total_distance = df['Distance_km'].sum()\n",
    "avg_daily_distance = df['Distance_km'].mean()\n",
    "charges_this_week = df['Charged'].sum()\n",
    "final_soc = df['SoC_End'].iloc[-1]\n",
    "\n",
    "print(f\"\\n=== Weekly Analysis ===\")\n",
    "print(f\"Total distance: {total_distance:.1f}km\")\n",
    "print(f\"Average daily: {avg_daily_distance:.1f}km\")\n",
    "print(f\"Charging sessions: {charges_this_week}\")\n",
    "print(f\"Final SoC: {final_soc:.1f}%\")\n",
    "\n",
    "# Validation against research\n",
    "print(f\"\\n=== Research Validation ===\")\n",
    "print(f\"Daily distance in range (30-80km): {'✅' if 30 <= avg_daily_distance <= 80 else '❌'} ({avg_daily_distance:.1f}km)\")\n",
    "print(f\"Charging frequency in range (3-7/week): {'✅' if 3 <= charges_this_week <= 7 else '❌'} ({charges_this_week}/week)\")\n",
    "print(f\"Safe SoC management (>20%): {'✅' if final_soc >= 20 else '❌'} ({final_soc:.1f}%)\")"
   ]
  },
  {
   "cell_type": "code",
   "execution_count": null,
   "metadata": {},
   "outputs": [],
   "source": "# Visualize SoC patterns\nplt.figure(figsize=(12, 6))\n\ndays = range(len(df))\nplt.plot(days, df['SoC_Start'], 'o-', label='SoC Start of Day', color='blue')\nplt.plot(days, df['SoC_After_Drive'], 's-', label='SoC After Driving', color='orange')\nplt.plot(days, df['SoC_End'], '^-', label='SoC End of Day', color='green')\n\n# Highlight charging events\ncharging_days = df[df['Charged']].index\nfor day in charging_days:\n    plt.axvspan(day-0.1, day+0.1, alpha=0.3, color='yellow', label='Charged' if day == charging_days[0] else \"\")\n\n# Add reference lines for optimal SoC range\nplt.axhline(y=85, color='red', linestyle='--', alpha=0.7, label='Target Max (85%)')\nplt.axhline(y=25, color='red', linestyle='--', alpha=0.7, label='Target Min (25%)')\n\nplt.xlabel('Day of Week')\nplt.ylabel('State of Charge (%)')\nplt.title('COMMON_DRIVER SoC Management Pattern (Typical EV Driver)')\nplt.xticks(days, df['Day'])\nplt.legend()\nplt.grid(True, alpha=0.3)\nplt.ylim(0, 100)\nplt.tight_layout()\nplt.show()"
  },
  {
   "cell_type": "markdown",
   "metadata": {},
   "source": [
    "## Next: Add More Profiles\n",
    "\n",
    "We can iteratively add more user profiles here:\n",
    "- COMMUTER (high daily distance, regular patterns)\n",
    "- WEEKEND_WARRIOR (low weekday, high weekend)\n",
    "- SPONTANEOUS (higher variance, less planning)\n",
    "- etc.\n",
    "\n",
    "Each will be calibrated against the research data for realistic behavior."
   ]
  }
 ],
 "metadata": {
  "kernelspec": {
   "display_name": "Python 3",
   "language": "python",
   "name": "python3"
  },
  "language_info": {
   "codemirror_mode": {
    "name": "ipython",
    "version": 3
   },
   "file_extension": ".py",
   "mimetype": "text/x-python",
   "name": "python",
   "nbconvert_exporter": "python",
   "pygments_lexer": "ipython3",
   "version": "3.10.12"
  }
 },
 "nbformat": 4,
 "nbformat_minor": 4
}